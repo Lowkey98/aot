{
 "cells": [
  {
   "cell_type": "code",
   "execution_count": 2,
   "id": "035ef6ae",
   "metadata": {},
   "outputs": [],
   "source": [
    "import pysrt\n"
   ]
  },
  {
   "cell_type": "code",
   "execution_count": 5,
   "id": "1891c65c",
   "metadata": {},
   "outputs": [],
   "source": [
    "subs = pysrt.open('attack.srt')\n"
   ]
  },
  {
   "cell_type": "code",
   "execution_count": 4,
   "id": "e60b3c9a",
   "metadata": {},
   "outputs": [],
   "source": [
    "subs = subs[0]"
   ]
  },
  {
   "cell_type": "code",
   "execution_count": 6,
   "id": "40d84a49",
   "metadata": {},
   "outputs": [],
   "source": [
    "sub = subs[0]"
   ]
  },
  {
   "cell_type": "code",
   "execution_count": 7,
   "id": "22957e7a",
   "metadata": {},
   "outputs": [],
   "source": [
    "text = sub.text"
   ]
  },
  {
   "cell_type": "code",
   "execution_count": 8,
   "id": "210079f9",
   "metadata": {},
   "outputs": [],
   "source": [
    "text_without_tags = sub.text_without_tags"
   ]
  },
  {
   "cell_type": "code",
   "execution_count": 9,
   "id": "b8fb3dd7",
   "metadata": {},
   "outputs": [],
   "source": [
    "start = sub.start.to_time()\n"
   ]
  },
  {
   "cell_type": "code",
   "execution_count": 10,
   "id": "56f50c76",
   "metadata": {},
   "outputs": [],
   "source": [
    "end = sub.end.to_time()\n"
   ]
  },
  {
   "cell_type": "code",
   "execution_count": 11,
   "id": "161ae393",
   "metadata": {},
   "outputs": [
    {
     "name": "stdout",
     "output_type": "stream",
     "text": [
      "00:00:11.030000\n"
     ]
    }
   ],
   "source": [
    "print(end)"
   ]
  },
  {
   "cell_type": "code",
   "execution_count": 12,
   "id": "58bbcc56",
   "metadata": {},
   "outputs": [
    {
     "name": "stdout",
     "output_type": "stream",
     "text": [
      "Hey...\n"
     ]
    }
   ],
   "source": [
    "print(text_without_tags)"
   ]
  },
  {
   "cell_type": "code",
   "execution_count": null,
   "id": "83568204",
   "metadata": {},
   "outputs": [],
   "source": []
  }
 ],
 "metadata": {
  "kernelspec": {
   "display_name": "Python 3",
   "language": "python",
   "name": "python3"
  },
  "language_info": {
   "codemirror_mode": {
    "name": "ipython",
    "version": 3
   },
   "file_extension": ".py",
   "mimetype": "text/x-python",
   "name": "python",
   "nbconvert_exporter": "python",
   "pygments_lexer": "ipython3",
   "version": "3.7.10"
  }
 },
 "nbformat": 4,
 "nbformat_minor": 5
}
